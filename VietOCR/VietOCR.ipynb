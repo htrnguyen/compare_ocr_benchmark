{
  "nbformat": 4,
  "nbformat_minor": 0,
  "metadata": {
    "colab": {
      "provenance": [],
      "gpuType": "T4"
    },
    "kernelspec": {
      "name": "python3",
      "display_name": "Python 3"
    },
    "language_info": {
      "name": "python"
    },
    "accelerator": "GPU"
  },
  "cells": [
    {
      "cell_type": "code",
      "execution_count": 1,
      "metadata": {
        "colab": {
          "base_uri": "https://localhost:8080/"
        },
        "id": "aX9XjJ8b16i8",
        "outputId": "48e37129-f812-4dd0-f726-8df285cd6706"
      },
      "outputs": [
        {
          "output_type": "stream",
          "name": "stdout",
          "text": [
            "Downloading from https://www.kaggle.com/api/v1/datasets/download/trongnguyen04/nckh-2425-crops?dataset_version_number=1...\n"
          ]
        },
        {
          "output_type": "stream",
          "name": "stderr",
          "text": [
            "100%|██████████| 107M/107M [00:06<00:00, 18.2MB/s]"
          ]
        },
        {
          "output_type": "stream",
          "name": "stdout",
          "text": [
            "Extracting files...\n"
          ]
        },
        {
          "output_type": "stream",
          "name": "stderr",
          "text": [
            "\n"
          ]
        },
        {
          "output_type": "stream",
          "name": "stdout",
          "text": [
            "Path to dataset files: /root/.cache/kagglehub/datasets/trongnguyen04/nckh-2425-crops/versions/1\n"
          ]
        }
      ],
      "source": [
        "import kagglehub\n",
        "\n",
        "# Download latest version\n",
        "path = kagglehub.dataset_download(\"trongnguyen04/nckh-2425-crops\")\n",
        "print(\"Path to dataset files:\", path)\n",
        "\n",
        "# ─── copy raw folder “1” → /content/dataset_original/crops ───────\n",
        "SRC=\"/root/.cache/kagglehub/datasets/trongnguyen04/nckh-2425-crops/versions/1\"\n",
        "DEST=\"/content/dataset_original/crops\"\n",
        "!mkdir -p $(dirname $DEST)\n",
        "!cp -r \"$SRC\" \"$DEST\""
      ]
    },
    {
      "cell_type": "code",
      "source": [
        "!git clone https://github.com/htrnguyen/compare_ocr_benchmark.git"
      ],
      "metadata": {
        "colab": {
          "base_uri": "https://localhost:8080/"
        },
        "id": "9Vn0MjvS2Q5c",
        "outputId": "50f14f5d-de7f-47f2-d621-1109182e886f"
      },
      "execution_count": 2,
      "outputs": [
        {
          "output_type": "stream",
          "name": "stdout",
          "text": [
            "Cloning into 'compare_ocr_benchmark'...\n",
            "remote: Enumerating objects: 20, done.\u001b[K\n",
            "remote: Counting objects: 100% (20/20), done.\u001b[K\n",
            "remote: Compressing objects: 100% (15/15), done.\u001b[K\n",
            "remote: Total 20 (delta 3), reused 19 (delta 2), pack-reused 0 (from 0)\u001b[K\n",
            "Receiving objects: 100% (20/20), 72.75 KiB | 14.55 MiB/s, done.\n",
            "Resolving deltas: 100% (3/3), done.\n"
          ]
        }
      ]
    },
    {
      "cell_type": "code",
      "metadata": {
        "colab": {
          "base_uri": "https://localhost:8080/"
        },
        "id": "28828aea",
        "outputId": "94375984-a757-4914-fd72-9e4ace9e0351"
      },
      "source": [
        "!pip install python-Levenshtein jiwer"
      ],
      "execution_count": 7,
      "outputs": [
        {
          "output_type": "stream",
          "name": "stdout",
          "text": [
            "Requirement already satisfied: python-Levenshtein in /usr/local/lib/python3.11/dist-packages (0.27.1)\n",
            "Collecting jiwer\n",
            "  Downloading jiwer-4.0.0-py3-none-any.whl.metadata (3.3 kB)\n",
            "Requirement already satisfied: Levenshtein==0.27.1 in /usr/local/lib/python3.11/dist-packages (from python-Levenshtein) (0.27.1)\n",
            "Requirement already satisfied: rapidfuzz<4.0.0,>=3.9.0 in /usr/local/lib/python3.11/dist-packages (from Levenshtein==0.27.1->python-Levenshtein) (3.13.0)\n",
            "Requirement already satisfied: click>=8.1.8 in /usr/local/lib/python3.11/dist-packages (from jiwer) (8.2.1)\n",
            "Downloading jiwer-4.0.0-py3-none-any.whl (23 kB)\n",
            "Installing collected packages: jiwer\n",
            "Successfully installed jiwer-4.0.0\n"
          ]
        }
      ]
    },
    {
      "cell_type": "code",
      "source": [
        "import sys\n",
        "sys.path.append('/content/compare_ocr_benchmark/common')\n",
        "\n",
        "from image_preprocessing import preprocess_image\n",
        "from ocr_base import OCRModelBase\n",
        "from metrics import compute_metrics\n",
        "from utils import read_annotations, save_results\n",
        "\n",
        "import os\n",
        "import pandas as pd\n",
        "import time"
      ],
      "metadata": {
        "id": "kjRFEYCo2WDk"
      },
      "execution_count": 1,
      "outputs": []
    },
    {
      "cell_type": "code",
      "source": [
        "!pip install vietocr"
      ],
      "metadata": {
        "colab": {
          "base_uri": "https://localhost:8080/",
          "height": 1000
        },
        "id": "Iiy0ffP-3Pr_",
        "outputId": "a5ce389e-4156-4148-fb3e-b0aad7fa2a37"
      },
      "execution_count": 9,
      "outputs": [
        {
          "output_type": "stream",
          "name": "stdout",
          "text": [
            "Collecting vietocr\n",
            "  Downloading vietocr-0.3.13-py3-none-any.whl.metadata (4.1 kB)\n",
            "Collecting einops==0.2.0 (from vietocr)\n",
            "  Downloading einops-0.2.0-py2.py3-none-any.whl.metadata (8.7 kB)\n",
            "Collecting gdown==4.4.0 (from vietocr)\n",
            "  Downloading gdown-4.4.0.tar.gz (14 kB)\n",
            "  Installing build dependencies ... \u001b[?25l\u001b[?25hdone\n",
            "  Getting requirements to build wheel ... \u001b[?25l\u001b[?25hdone\n",
            "  Preparing metadata (pyproject.toml) ... \u001b[?25l\u001b[?25hdone\n",
            "Collecting prefetch-generator==1.0.1 (from vietocr)\n",
            "  Downloading prefetch_generator-1.0.1.tar.gz (3.4 kB)\n",
            "  Preparing metadata (setup.py) ... \u001b[?25l\u001b[?25hdone\n",
            "Collecting imgaug==0.4.0 (from vietocr)\n",
            "  Downloading imgaug-0.4.0-py2.py3-none-any.whl.metadata (1.8 kB)\n",
            "Collecting albumentations==1.4.2 (from vietocr)\n",
            "  Downloading albumentations-1.4.2-py3-none-any.whl.metadata (36 kB)\n",
            "Collecting lmdb>=1.0.0 (from vietocr)\n",
            "  Downloading lmdb-1.7.2-cp311-cp311-manylinux_2_17_x86_64.manylinux2014_x86_64.whl.metadata (1.3 kB)\n",
            "Requirement already satisfied: scikit-image>=0.21.0 in /usr/local/lib/python3.11/dist-packages (from vietocr) (0.25.2)\n",
            "Collecting pillow==10.2.0 (from vietocr)\n",
            "  Downloading pillow-10.2.0-cp311-cp311-manylinux_2_28_x86_64.whl.metadata (9.7 kB)\n",
            "Requirement already satisfied: numpy>=1.24.4 in /usr/local/lib/python3.11/dist-packages (from albumentations==1.4.2->vietocr) (2.0.2)\n",
            "Requirement already satisfied: scipy>=1.10.0 in /usr/local/lib/python3.11/dist-packages (from albumentations==1.4.2->vietocr) (1.15.3)\n",
            "Requirement already satisfied: PyYAML in /usr/local/lib/python3.11/dist-packages (from albumentations==1.4.2->vietocr) (6.0.2)\n",
            "Requirement already satisfied: typing-extensions>=4.9.0 in /usr/local/lib/python3.11/dist-packages (from albumentations==1.4.2->vietocr) (4.14.1)\n",
            "Requirement already satisfied: scikit-learn>=1.3.2 in /usr/local/lib/python3.11/dist-packages (from albumentations==1.4.2->vietocr) (1.6.1)\n",
            "Requirement already satisfied: opencv-python-headless>=4.9.0 in /usr/local/lib/python3.11/dist-packages (from albumentations==1.4.2->vietocr) (4.12.0.88)\n",
            "Requirement already satisfied: filelock in /usr/local/lib/python3.11/dist-packages (from gdown==4.4.0->vietocr) (3.18.0)\n",
            "Requirement already satisfied: requests[socks] in /usr/local/lib/python3.11/dist-packages (from gdown==4.4.0->vietocr) (2.32.3)\n",
            "Requirement already satisfied: six in /usr/local/lib/python3.11/dist-packages (from gdown==4.4.0->vietocr) (1.17.0)\n",
            "Requirement already satisfied: tqdm in /usr/local/lib/python3.11/dist-packages (from gdown==4.4.0->vietocr) (4.67.1)\n",
            "Requirement already satisfied: beautifulsoup4 in /usr/local/lib/python3.11/dist-packages (from gdown==4.4.0->vietocr) (4.13.4)\n",
            "Requirement already satisfied: matplotlib in /usr/local/lib/python3.11/dist-packages (from imgaug==0.4.0->vietocr) (3.10.0)\n",
            "Requirement already satisfied: opencv-python in /usr/local/lib/python3.11/dist-packages (from imgaug==0.4.0->vietocr) (4.11.0.86)\n",
            "Requirement already satisfied: imageio in /usr/local/lib/python3.11/dist-packages (from imgaug==0.4.0->vietocr) (2.37.0)\n",
            "Requirement already satisfied: Shapely in /usr/local/lib/python3.11/dist-packages (from imgaug==0.4.0->vietocr) (2.1.1)\n",
            "Requirement already satisfied: networkx>=3.0 in /usr/local/lib/python3.11/dist-packages (from scikit-image>=0.21.0->vietocr) (3.5)\n",
            "Requirement already satisfied: tifffile>=2022.8.12 in /usr/local/lib/python3.11/dist-packages (from scikit-image>=0.21.0->vietocr) (2025.6.11)\n",
            "Requirement already satisfied: packaging>=21 in /usr/local/lib/python3.11/dist-packages (from scikit-image>=0.21.0->vietocr) (24.2)\n",
            "Requirement already satisfied: lazy-loader>=0.4 in /usr/local/lib/python3.11/dist-packages (from scikit-image>=0.21.0->vietocr) (0.4)\n",
            "Requirement already satisfied: joblib>=1.2.0 in /usr/local/lib/python3.11/dist-packages (from scikit-learn>=1.3.2->albumentations==1.4.2->vietocr) (1.5.1)\n",
            "Requirement already satisfied: threadpoolctl>=3.1.0 in /usr/local/lib/python3.11/dist-packages (from scikit-learn>=1.3.2->albumentations==1.4.2->vietocr) (3.6.0)\n",
            "Requirement already satisfied: soupsieve>1.2 in /usr/local/lib/python3.11/dist-packages (from beautifulsoup4->gdown==4.4.0->vietocr) (2.7)\n",
            "Requirement already satisfied: contourpy>=1.0.1 in /usr/local/lib/python3.11/dist-packages (from matplotlib->imgaug==0.4.0->vietocr) (1.3.2)\n",
            "Requirement already satisfied: cycler>=0.10 in /usr/local/lib/python3.11/dist-packages (from matplotlib->imgaug==0.4.0->vietocr) (0.12.1)\n",
            "Requirement already satisfied: fonttools>=4.22.0 in /usr/local/lib/python3.11/dist-packages (from matplotlib->imgaug==0.4.0->vietocr) (4.58.5)\n",
            "Requirement already satisfied: kiwisolver>=1.3.1 in /usr/local/lib/python3.11/dist-packages (from matplotlib->imgaug==0.4.0->vietocr) (1.4.8)\n",
            "Requirement already satisfied: pyparsing>=2.3.1 in /usr/local/lib/python3.11/dist-packages (from matplotlib->imgaug==0.4.0->vietocr) (3.2.3)\n",
            "Requirement already satisfied: python-dateutil>=2.7 in /usr/local/lib/python3.11/dist-packages (from matplotlib->imgaug==0.4.0->vietocr) (2.9.0.post0)\n",
            "Requirement already satisfied: charset-normalizer<4,>=2 in /usr/local/lib/python3.11/dist-packages (from requests[socks]->gdown==4.4.0->vietocr) (3.4.2)\n",
            "Requirement already satisfied: idna<4,>=2.5 in /usr/local/lib/python3.11/dist-packages (from requests[socks]->gdown==4.4.0->vietocr) (3.10)\n",
            "Requirement already satisfied: urllib3<3,>=1.21.1 in /usr/local/lib/python3.11/dist-packages (from requests[socks]->gdown==4.4.0->vietocr) (2.4.0)\n",
            "Requirement already satisfied: certifi>=2017.4.17 in /usr/local/lib/python3.11/dist-packages (from requests[socks]->gdown==4.4.0->vietocr) (2025.7.9)\n",
            "Requirement already satisfied: PySocks!=1.5.7,>=1.5.6 in /usr/local/lib/python3.11/dist-packages (from requests[socks]->gdown==4.4.0->vietocr) (1.7.1)\n",
            "Downloading vietocr-0.3.13-py3-none-any.whl (34 kB)\n",
            "Downloading albumentations-1.4.2-py3-none-any.whl (133 kB)\n",
            "\u001b[2K   \u001b[90m━━━━━━━━━━━━━━━━━━━━━━━━━━━━━━━━━━━━━━━━\u001b[0m \u001b[32m133.9/133.9 kB\u001b[0m \u001b[31m12.5 MB/s\u001b[0m eta \u001b[36m0:00:00\u001b[0m\n",
            "\u001b[?25hDownloading einops-0.2.0-py2.py3-none-any.whl (18 kB)\n",
            "Downloading imgaug-0.4.0-py2.py3-none-any.whl (948 kB)\n",
            "\u001b[2K   \u001b[90m━━━━━━━━━━━━━━━━━━━━━━━━━━━━━━━━━━━━━━━━\u001b[0m \u001b[32m948.0/948.0 kB\u001b[0m \u001b[31m60.9 MB/s\u001b[0m eta \u001b[36m0:00:00\u001b[0m\n",
            "\u001b[?25hDownloading pillow-10.2.0-cp311-cp311-manylinux_2_28_x86_64.whl (4.5 MB)\n",
            "\u001b[2K   \u001b[90m━━━━━━━━━━━━━━━━━━━━━━━━━━━━━━━━━━━━━━━━\u001b[0m \u001b[32m4.5/4.5 MB\u001b[0m \u001b[31m102.5 MB/s\u001b[0m eta \u001b[36m0:00:00\u001b[0m\n",
            "\u001b[?25hDownloading lmdb-1.7.2-cp311-cp311-manylinux_2_17_x86_64.manylinux2014_x86_64.whl (299 kB)\n",
            "\u001b[2K   \u001b[90m━━━━━━━━━━━━━━━━━━━━━━━━━━━━━━━━━━━━━━━━\u001b[0m \u001b[32m299.6/299.6 kB\u001b[0m \u001b[31m27.7 MB/s\u001b[0m eta \u001b[36m0:00:00\u001b[0m\n",
            "\u001b[?25hBuilding wheels for collected packages: gdown, prefetch-generator\n",
            "  Building wheel for gdown (pyproject.toml) ... \u001b[?25l\u001b[?25hdone\n",
            "  Created wheel for gdown: filename=gdown-4.4.0-py3-none-any.whl size=14845 sha256=ccfff84bf5855c192e9063f39c89e3dc7b5a5549eba066353fa2e6e94d9a7725\n",
            "  Stored in directory: /root/.cache/pip/wheels/04/17/f7/f9585b8ed11a19d05b50f0ab33aa6635a5179241b92982ab27\n",
            "  Building wheel for prefetch-generator (setup.py) ... \u001b[?25l\u001b[?25hdone\n",
            "  Created wheel for prefetch-generator: filename=prefetch_generator-1.0.1-py3-none-any.whl size=3941 sha256=96167ee85445db49b6d78f441ee41abdad5decc8970f24565430e393da2c3508\n",
            "  Stored in directory: /root/.cache/pip/wheels/8b/24/c0/c552730f6b36b3dfca27ebea2b16c34d144574f8373f4a9d45\n",
            "Successfully built gdown prefetch-generator\n",
            "Installing collected packages: prefetch-generator, lmdb, einops, pillow, gdown, imgaug, albumentations, vietocr\n",
            "  Attempting uninstall: einops\n",
            "    Found existing installation: einops 0.8.1\n",
            "    Uninstalling einops-0.8.1:\n",
            "      Successfully uninstalled einops-0.8.1\n",
            "  Attempting uninstall: pillow\n",
            "    Found existing installation: pillow 11.2.1\n",
            "    Uninstalling pillow-11.2.1:\n",
            "      Successfully uninstalled pillow-11.2.1\n",
            "  Attempting uninstall: gdown\n",
            "    Found existing installation: gdown 5.2.0\n",
            "    Uninstalling gdown-5.2.0:\n",
            "      Successfully uninstalled gdown-5.2.0\n",
            "  Attempting uninstall: albumentations\n",
            "    Found existing installation: albumentations 2.0.8\n",
            "    Uninstalling albumentations-2.0.8:\n",
            "      Successfully uninstalled albumentations-2.0.8\n",
            "Successfully installed albumentations-1.4.2 einops-0.2.0 gdown-4.4.0 imgaug-0.4.0 lmdb-1.7.2 pillow-10.2.0 prefetch-generator-1.0.1 vietocr-0.3.13\n"
          ]
        },
        {
          "output_type": "display_data",
          "data": {
            "application/vnd.colab-display-data+json": {
              "pip_warning": {
                "packages": [
                  "PIL"
                ]
              },
              "id": "db14b0c18eb945b0a959932ea7733680"
            }
          },
          "metadata": {}
        }
      ]
    },
    {
      "cell_type": "code",
      "source": [
        "from vietocr.tool.config import Cfg\n",
        "from vietocr.tool.predictor import Predictor\n",
        "from PIL import Image"
      ],
      "metadata": {
        "id": "OLpb_OR627_F"
      },
      "execution_count": 2,
      "outputs": []
    },
    {
      "cell_type": "code",
      "source": [
        "class VietOCRModel(OCRModelBase):\n",
        "    def __init__(self, config_name='vgg_transformer', device='cuda'):\n",
        "        super().__init__()\n",
        "        config = Cfg.load_config_from_name(config_name)\n",
        "        config['device'] = device\n",
        "        self.detector = Predictor(config)\n",
        "\n",
        "    def predict(self, img_pil, img_np=None):\n",
        "        t1 = time.perf_counter()\n",
        "        pred = self.detector.predict(img_pil, return_prob=False)\n",
        "        t2 = time.perf_counter()\n",
        "        return pred, t2 - t1"
      ],
      "metadata": {
        "id": "hTPxPtjH3Xpi"
      },
      "execution_count": 3,
      "outputs": []
    },
    {
      "cell_type": "code",
      "source": [
        "CSV_ANN = '/content/dataset_original/crops/crops_gt.csv'\n",
        "IMG_DIR = '/content/dataset_original/crops'\n",
        "\n",
        "df = read_annotations(CSV_ANN)"
      ],
      "metadata": {
        "id": "lLLLiruU3aXl"
      },
      "execution_count": 4,
      "outputs": []
    },
    {
      "cell_type": "code",
      "source": [
        "model = VietOCRModel()\n",
        "\n",
        "results = []\n",
        "for idx, row in df.iterrows():\n",
        "    fname = row['filename']\n",
        "    desc_gt = row['description_gt']\n",
        "    label = row.get('label', '')\n",
        "    img_path = os.path.join(IMG_DIR, fname)\n",
        "\n",
        "    img_pil, img_np = preprocess_image(img_path, target_size=448, do_auto=True)\n",
        "    pred, infer_time = model.predict(img_pil, img_np)\n",
        "    metrics = compute_metrics(desc_gt, pred)\n",
        "\n",
        "    results.append({\n",
        "        \"filename\": fname,\n",
        "        \"label\": label,\n",
        "        \"ground_truth\": desc_gt,\n",
        "        \"predicted_text\": pred,\n",
        "        \"cer\": metrics[\"cer\"],\n",
        "        \"wer\": metrics[\"wer\"],\n",
        "        \"lev\": metrics[\"lev\"],\n",
        "        \"acc\": metrics[\"acc\"],\n",
        "        \"time\": round(infer_time, 3)\n",
        "    })"
      ],
      "metadata": {
        "colab": {
          "base_uri": "https://localhost:8080/"
        },
        "id": "5Akn03m73cVO",
        "outputId": "1fa8b6e6-7d95-4321-8c93-0bacfe375fb2"
      },
      "execution_count": 5,
      "outputs": [
        {
          "output_type": "stream",
          "name": "stderr",
          "text": [
            "Downloading: \"https://download.pytorch.org/models/vgg19_bn-c79401a0.pth\" to /root/.cache/torch/hub/checkpoints/vgg19_bn-c79401a0.pth\n",
            "100%|██████████| 548M/548M [00:07<00:00, 79.7MB/s]\n",
            "/usr/local/lib/python3.11/dist-packages/torch/nn/modules/transformer.py:385: UserWarning: enable_nested_tensor is True, but self.use_nested_tensor is False because encoder_layer.self_attn.batch_first was not True(use batch_first for better inference performance)\n",
            "  warnings.warn(\n",
            "18533it [00:00, 26519.15it/s]\n",
            "/usr/local/lib/python3.11/dist-packages/vietocr/tool/translate.py:115: RuntimeWarning: invalid value encountered in divide\n",
            "  char_probs = np.sum(char_probs, axis=-1)/(char_probs>0).sum(-1)\n",
            "/usr/local/lib/python3.11/dist-packages/vietocr/tool/translate.py:115: RuntimeWarning: invalid value encountered in divide\n",
            "  char_probs = np.sum(char_probs, axis=-1)/(char_probs>0).sum(-1)\n",
            "/usr/local/lib/python3.11/dist-packages/vietocr/tool/translate.py:115: RuntimeWarning: invalid value encountered in divide\n",
            "  char_probs = np.sum(char_probs, axis=-1)/(char_probs>0).sum(-1)\n",
            "/usr/local/lib/python3.11/dist-packages/vietocr/tool/translate.py:115: RuntimeWarning: invalid value encountered in divide\n",
            "  char_probs = np.sum(char_probs, axis=-1)/(char_probs>0).sum(-1)\n",
            "/usr/local/lib/python3.11/dist-packages/vietocr/tool/translate.py:115: RuntimeWarning: invalid value encountered in divide\n",
            "  char_probs = np.sum(char_probs, axis=-1)/(char_probs>0).sum(-1)\n",
            "/usr/local/lib/python3.11/dist-packages/vietocr/tool/translate.py:115: RuntimeWarning: invalid value encountered in divide\n",
            "  char_probs = np.sum(char_probs, axis=-1)/(char_probs>0).sum(-1)\n",
            "/usr/local/lib/python3.11/dist-packages/vietocr/tool/translate.py:115: RuntimeWarning: invalid value encountered in divide\n",
            "  char_probs = np.sum(char_probs, axis=-1)/(char_probs>0).sum(-1)\n"
          ]
        }
      ]
    },
    {
      "cell_type": "code",
      "source": [
        "import os\n",
        "OUT_CSV = '/content/compare_ocr_benchmark/results/vietocr_results.csv'\n",
        "os.makedirs(os.path.dirname(OUT_CSV), exist_ok=True)\n",
        "save_results(results, OUT_CSV)"
      ],
      "metadata": {
        "colab": {
          "base_uri": "https://localhost:8080/"
        },
        "id": "DnTfmSc23d0p",
        "outputId": "2dfcaf9f-9f69-4a39-efbf-6356a9f56ebb"
      },
      "execution_count": 6,
      "outputs": [
        {
          "output_type": "stream",
          "name": "stdout",
          "text": [
            "Lưu thành công: /content/compare_ocr_benchmark/results/vietocr_results.csv\n"
          ]
        }
      ]
    },
    {
      "cell_type": "code",
      "source": [],
      "metadata": {
        "id": "GpQ-BnH63oqz"
      },
      "execution_count": null,
      "outputs": []
    }
  ]
}